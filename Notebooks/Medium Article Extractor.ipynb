{
  "nbformat": 4,
  "nbformat_minor": 0,
  "metadata": {
    "colab": {
      "name": "Medium Article Something.ipynb",
      "provenance": [],
      "collapsed_sections": []
    },
    "kernelspec": {
      "name": "python3",
      "display_name": "Python 3"
    },
    "accelerator": "GPU"
  },
  "cells": [
    {
      "cell_type": "markdown",
      "metadata": {
        "id": "liP7p5WDhNWR"
      },
      "source": [
        "## Importing Packages"
      ]
    },
    {
      "cell_type": "code",
      "metadata": {
        "id": "bD0AWAdHubEm"
      },
      "source": [
        "import os\n",
        "import numpy as np\n",
        "import pandas as pd\n",
        "import seaborn as sns\n",
        "import matplotlib.pyplot as plt\n",
        "from bs4 import BeautifulSoup\n",
        "import requests\n",
        "import time\n",
        "from IPython.display import clear_output\n",
        "\n",
        "import tensorflow as tf\n",
        "from tensorflow.keras import backend as K\n",
        "from tensorflow.keras import Sequential, Model\n",
        "from tensorflow.keras.layers import Bidirectional, LSTM, Dense, Conv1D\n",
        "from tensorflow.keras.optimizers import Adam"
      ],
      "execution_count": null,
      "outputs": []
    },
    {
      "cell_type": "markdown",
      "metadata": {
        "id": "lLs5qxQxhSSY"
      },
      "source": [
        "## Getting Medium Stories"
      ]
    },
    {
      "cell_type": "code",
      "metadata": {
        "id": "XJJeL9dHkAa5"
      },
      "source": [
        "def getData(url, date):\n",
        "  # Getting The Page Data\n",
        "  page = requests.get(url)\n",
        "  soup = BeautifulSoup(page.text, 'html.parser')\n",
        "\n",
        "  # Finding Specific Part in the HTML Page\n",
        "  stories = soup.find_all('div', class_ = 'streamItem streamItem--postPreview js-streamItem')\n",
        "  for story in stories:\n",
        "    # print('Started Extracting Story')\n",
        "    # start = time.time()\n",
        "    each_story = []\n",
        "\n",
        "    # Getting Author Data\n",
        "    author_box = story.find('div', class_ = 'postMetaInline u-floatLeft u-sm-maxWidthFullWidth')\n",
        "    author_url = author_box.find('a')['href']\n",
        "    \n",
        "    try:\n",
        "        reading_time = author_box.find('span', class_ = 'readingTime')['title']\n",
        "    except:\n",
        "        continue\n",
        "\n",
        "    # Getting Title and Subtitle of The Article\n",
        "    title = story.find('h3').text if story.find('h3') else '-'\n",
        "    subtitle = story.find('h4').text if story.find('h4') else '-'\n",
        "\n",
        "    # Finding Claps and Respones\n",
        "    if story.find('button', \n",
        "                  class_ = 'button button--chromeless u-baseColor--buttonNormal js-multirecommendCountButton u-disablePointerEvents'):\n",
        "      \n",
        "        claps = story.find('button', \n",
        "                           class_ = 'button button--chromeless u-baseColor--buttonNormal js-multirecommendCountButton u-disablePointerEvents').text\n",
        "    else:\n",
        "        claps = 0\n",
        "\n",
        "    if story.find('a', class_ = 'button button--chromeless u-baseColor--buttonNormal'):\n",
        "        responses = story.find('a', class_ = 'button button--chromeless u-baseColor--buttonNormal').text\n",
        "    else:\n",
        "        responses = '0 responses'\n",
        "\n",
        "    # Getting The Actual Story\n",
        "    story_url = story.find('a', class_ = 'button button--smaller button--chromeless u-baseColor--buttonNormal')['href']\n",
        "\n",
        "    reading_time = reading_time.split()[0]\n",
        "    responses = responses.split()[0]\n",
        "\n",
        "    # Getting The Full Story Of The Article\n",
        "    story_page = requests.get(story_url)\n",
        "    story_soup = BeautifulSoup(story_page.text, 'html.parser')\n",
        "    \n",
        "    # Getting All Sections and Paragraphs of the Article\n",
        "    sections = story_soup.find_all('section')\n",
        "    story_paragraphs = []\n",
        "    section_titles = []\n",
        "\n",
        "    for section in sections:\n",
        "      paragraphs = section.find_all('p')\n",
        "      for paragraph in paragraphs:\n",
        "          story_paragraphs.append(paragraph.text)\n",
        "\n",
        "      subs = section.find_all('h1')\n",
        "      for sub in subs:\n",
        "          section_titles.append(sub.text)\n",
        "\n",
        "    number_sections = len(section_titles)\n",
        "    number_paragraphs = len(story_paragraphs)\n",
        "\n",
        "    each_story.append(date); each_story.append(title); each_story.append(subtitle); each_story.append(claps); each_story.append(responses)\n",
        "    each_story.append(author_url); each_story.append(story_url); each_story.append(reading_time); each_story.append(number_sections)\n",
        "    each_story.append(section_titles); each_story.append(number_paragraphs); each_story.append(story_paragraphs)\n",
        "    # end = time.time()\n",
        "    # print('Time for 1 story:', (end - start))\n",
        "    stories_data.append(each_story)\n"
      ],
      "execution_count": null,
      "outputs": []
    },
    {
      "cell_type": "markdown",
      "metadata": {
        "id": "XyLTVakkWsEO"
      },
      "source": [
        "### Checking For One Day"
      ]
    },
    {
      "cell_type": "code",
      "metadata": {
        "colab": {
          "base_uri": "https://localhost:8080/"
        },
        "id": "U-0o1sTht3UF",
        "outputId": "8608c85b-df72-446e-c168-b03901d82079"
      },
      "source": [
        "# stories_data = [] \n",
        "# start = time.time()\n",
        "# getData('https://medium.com/swlh/archive/2021/03/17', '03/17/21')\n",
        "# end = time.time()\n",
        "# print('Time for 1 day:', (end - start))"
      ],
      "execution_count": null,
      "outputs": [
        {
          "output_type": "stream",
          "text": [
            "Time for 1 day: 19.841703176498413\n"
          ],
          "name": "stdout"
        }
      ]
    },
    {
      "cell_type": "markdown",
      "metadata": {
        "id": "8QH7-6QpWt_s"
      },
      "source": [
        "### Creating Proper Data Over Long Duration"
      ]
    },
    {
      "cell_type": "code",
      "metadata": {
        "id": "t4dECeHOhV_K"
      },
      "source": [
        "stories_data = []\n",
        "for month in range(6, 13):\n",
        "    if month in [7, 8, 10, 12]: n_days = 31\n",
        "    elif month in [6, 9, 11]: n_days = 30\n",
        "    else: n_days = 28\n",
        "    # print('Month', month)\n",
        "    for day in range(1, n_days + 1):\n",
        "        print('Month/Day', month, '/', day)\n",
        "        month, day = str(month), str(day)\n",
        "        if len(month) == 1: month = f'0{month}'\n",
        "        if len(day) == 1: day = f'0{day}'\n",
        "        \n",
        "        # Setting For Everyday of Everymonth\n",
        "        date = f'{month}/{day}/2020'\n",
        "        url = f'https://medium.com/swlh/archive/2020/{month}/{day}'\n",
        "\n",
        "        # Getting The Page Data\n",
        "        getData(url, date)\n",
        "        if i > 15000: break"
      ],
      "execution_count": null,
      "outputs": []
    },
    {
      "cell_type": "code",
      "metadata": {
        "colab": {
          "base_uri": "https://localhost:8080/"
        },
        "id": "Gvf3U7huidf1",
        "outputId": "8e4373b3-0cdf-4af1-b372-b13e705a1297"
      },
      "source": [
        "columns = ['date', 'title', 'subtitle', 'claps', 'responses', 'author_url', 'story_url', 'reading_time (mins)', \n",
        "           'number_sections', 'section_titles', 'number_paragraphs', 'paragraphs']\n",
        "\n",
        "df = pd.DataFrame(stories_data, columns = columns)\n",
        "df.shape"
      ],
      "execution_count": null,
      "outputs": [
        {
          "output_type": "execute_result",
          "data": {
            "text/plain": [
              "(8322, 12)"
            ]
          },
          "metadata": {
            "tags": []
          },
          "execution_count": 12
        }
      ]
    },
    {
      "cell_type": "code",
      "metadata": {
        "id": "7Qj5OZr4tULz"
      },
      "source": [
        "# df.to_csv('/content/drive/MyDrive/Colab Notebooks/Big Data/mediumdata.csv', index = False)"
      ],
      "execution_count": null,
      "outputs": []
    },
    {
      "cell_type": "code",
      "metadata": {
        "colab": {
          "base_uri": "https://localhost:8080/",
          "height": 1000
        },
        "id": "wMTrOs2ayi2N",
        "outputId": "686808e7-e13e-44a2-fba3-d4a2b97dcf7f"
      },
      "source": [
        "df.tail(10)"
      ],
      "execution_count": null,
      "outputs": [
        {
          "output_type": "execute_result",
          "data": {
            "text/html": [
              "<div>\n",
              "<style scoped>\n",
              "    .dataframe tbody tr th:only-of-type {\n",
              "        vertical-align: middle;\n",
              "    }\n",
              "\n",
              "    .dataframe tbody tr th {\n",
              "        vertical-align: top;\n",
              "    }\n",
              "\n",
              "    .dataframe thead th {\n",
              "        text-align: right;\n",
              "    }\n",
              "</style>\n",
              "<table border=\"1\" class=\"dataframe\">\n",
              "  <thead>\n",
              "    <tr style=\"text-align: right;\">\n",
              "      <th></th>\n",
              "      <th>date</th>\n",
              "      <th>title</th>\n",
              "      <th>subtitle</th>\n",
              "      <th>claps</th>\n",
              "      <th>responses</th>\n",
              "      <th>author_url</th>\n",
              "      <th>story_url</th>\n",
              "      <th>reading_time (mins)</th>\n",
              "      <th>number_sections</th>\n",
              "      <th>section_titles</th>\n",
              "      <th>number_paragraphs</th>\n",
              "      <th>paragraphs</th>\n",
              "    </tr>\n",
              "  </thead>\n",
              "  <tbody>\n",
              "    <tr>\n",
              "      <th>8312</th>\n",
              "      <td>10/01/2020</td>\n",
              "      <td>React Hooks: A Dream Come True</td>\n",
              "      <td>-</td>\n",
              "      <td>67</td>\n",
              "      <td>1</td>\n",
              "      <td>https://medium.com/@sadesina-96</td>\n",
              "      <td>https://medium.com/swlh/react-hooks-a-dream-co...</td>\n",
              "      <td>5</td>\n",
              "      <td>5</td>\n",
              "      <td>[React Hooks: A Dream Come True, What are thes...</td>\n",
              "      <td>19</td>\n",
              "      <td>[Today, I want to share my passion of the Reac...</td>\n",
              "    </tr>\n",
              "    <tr>\n",
              "      <th>8313</th>\n",
              "      <td>10/01/2020</td>\n",
              "      <td>Time for Innovation: How to Inspire Your Team’...</td>\n",
              "      <td>With the right rituals and…</td>\n",
              "      <td>81</td>\n",
              "      <td>0</td>\n",
              "      <td>https://medium.com/@juliatsoihk</td>\n",
              "      <td>https://medium.com/swlh/time-for-innovation-ho...</td>\n",
              "      <td>5</td>\n",
              "      <td>7</td>\n",
              "      <td>[Time for Innovation: How to Inspire Your Team...</td>\n",
              "      <td>28</td>\n",
              "      <td>[As a design strategist, I work closely with t...</td>\n",
              "    </tr>\n",
              "    <tr>\n",
              "      <th>8314</th>\n",
              "      <td>10/01/2020</td>\n",
              "      <td>Getting Started With Cloud One Application Sec...</td>\n",
              "      <td>-</td>\n",
              "      <td>104</td>\n",
              "      <td>0</td>\n",
              "      <td>https://medium.com/@terryleehillis</td>\n",
              "      <td>https://medium.com/swlh/getting-started-with-c...</td>\n",
              "      <td>10</td>\n",
              "      <td>7</td>\n",
              "      <td>[Getting Started With Cloud One Application Se...</td>\n",
              "      <td>52</td>\n",
              "      <td>[This guide is designed to teach you how to cr...</td>\n",
              "    </tr>\n",
              "    <tr>\n",
              "      <th>8315</th>\n",
              "      <td>10/01/2020</td>\n",
              "      <td>How Lifting 205 Kg Helps Me Become a Better De...</td>\n",
              "      <td>-</td>\n",
              "      <td>53</td>\n",
              "      <td>1</td>\n",
              "      <td>https://medium.com/@nguyentran-ngo</td>\n",
              "      <td>https://medium.com/swlh/how-lifting-205-kg-hel...</td>\n",
              "      <td>5</td>\n",
              "      <td>7</td>\n",
              "      <td>[How Lifting 205 Kg Helps Me Become a Better D...</td>\n",
              "      <td>22</td>\n",
              "      <td>[It was Saturday, January 6, 2018. I walked in...</td>\n",
              "    </tr>\n",
              "    <tr>\n",
              "      <th>8316</th>\n",
              "      <td>10/01/2020</td>\n",
              "      <td>Why Dealing With Toxic People Starts With Deve...</td>\n",
              "      <td>-</td>\n",
              "      <td>39</td>\n",
              "      <td>0</td>\n",
              "      <td>https://medium.com/@anamarinovic</td>\n",
              "      <td>https://medium.com/swlh/why-dealing-with-toxic...</td>\n",
              "      <td>8</td>\n",
              "      <td>1</td>\n",
              "      <td>[Why Dealing With Toxic People Starts With Dev...</td>\n",
              "      <td>39</td>\n",
              "      <td>[THE ULTIMATE GUIDE TO THRIVING AT WORK, The m...</td>\n",
              "    </tr>\n",
              "    <tr>\n",
              "      <th>8317</th>\n",
              "      <td>10/01/2020</td>\n",
              "      <td>“Covid-19”, Data Analysis From the Inception t...</td>\n",
              "      <td>-</td>\n",
              "      <td>78</td>\n",
              "      <td>0</td>\n",
              "      <td>https://medium.com/@r0han_</td>\n",
              "      <td>https://medium.com/swlh/covid-19-data-analysis...</td>\n",
              "      <td>11</td>\n",
              "      <td>3</td>\n",
              "      <td>[“Covid-19”, Data Analysis From the Inception ...</td>\n",
              "      <td>31</td>\n",
              "      <td>[One might consider Nuclear Warfare and a Clim...</td>\n",
              "    </tr>\n",
              "    <tr>\n",
              "      <th>8318</th>\n",
              "      <td>10/01/2020</td>\n",
              "      <td>-</td>\n",
              "      <td>Can creations surpass the creator?</td>\n",
              "      <td>89</td>\n",
              "      <td>2</td>\n",
              "      <td>https://medium.com/@joanna-tan</td>\n",
              "      <td>https://medium.com/swlh/a-human-wrote-this-are...</td>\n",
              "      <td>8</td>\n",
              "      <td>0</td>\n",
              "      <td>[]</td>\n",
              "      <td>36</td>\n",
              "      <td>[A Human Wrote This…Are You Sure?, For a long ...</td>\n",
              "    </tr>\n",
              "    <tr>\n",
              "      <th>8319</th>\n",
              "      <td>10/01/2020</td>\n",
              "      <td>An Undesirable Consequence of Handling All Exc...</td>\n",
              "      <td>what happens when you blindly catch…</td>\n",
              "      <td>100</td>\n",
              "      <td>0</td>\n",
              "      <td>https://medium.com/@ali-muhammadimran</td>\n",
              "      <td>https://medium.com/swlh/the-undesirable-conseq...</td>\n",
              "      <td>2</td>\n",
              "      <td>1</td>\n",
              "      <td>[An Undesirable Consequence of Handling All Ex...</td>\n",
              "      <td>19</td>\n",
              "      <td>[New programmers are often confused about the ...</td>\n",
              "    </tr>\n",
              "    <tr>\n",
              "      <th>8320</th>\n",
              "      <td>10/01/2020</td>\n",
              "      <td>Control Systems: The Hidden Science</td>\n",
              "      <td>-</td>\n",
              "      <td>140</td>\n",
              "      <td>0</td>\n",
              "      <td>https://medium.com/@abhishekg468</td>\n",
              "      <td>https://medium.com/swlh/control-systems-the-hi...</td>\n",
              "      <td>9</td>\n",
              "      <td>7</td>\n",
              "      <td>[Control Systems: The Hidden Science, Modern C...</td>\n",
              "      <td>29</td>\n",
              "      <td>[A couple of questions before we start.1- Have...</td>\n",
              "    </tr>\n",
              "    <tr>\n",
              "      <th>8321</th>\n",
              "      <td>10/01/2020</td>\n",
              "      <td>Shut Up And Grab a Whiteboard If You Want to B...</td>\n",
              "      <td>-</td>\n",
              "      <td>48</td>\n",
              "      <td>2</td>\n",
              "      <td>https://medium.com/@kevin-wanke</td>\n",
              "      <td>https://medium.com/swlh/shut-up-and-grab-a-whi...</td>\n",
              "      <td>7</td>\n",
              "      <td>4</td>\n",
              "      <td>[Shut Up And Grab a Whiteboard If You Want to ...</td>\n",
              "      <td>44</td>\n",
              "      <td>[After recently stumbling upon a commencement ...</td>\n",
              "    </tr>\n",
              "  </tbody>\n",
              "</table>\n",
              "</div>"
            ],
            "text/plain": [
              "            date  ...                                         paragraphs\n",
              "8312  10/01/2020  ...  [Today, I want to share my passion of the Reac...\n",
              "8313  10/01/2020  ...  [As a design strategist, I work closely with t...\n",
              "8314  10/01/2020  ...  [This guide is designed to teach you how to cr...\n",
              "8315  10/01/2020  ...  [It was Saturday, January 6, 2018. I walked in...\n",
              "8316  10/01/2020  ...  [THE ULTIMATE GUIDE TO THRIVING AT WORK, The m...\n",
              "8317  10/01/2020  ...  [One might consider Nuclear Warfare and a Clim...\n",
              "8318  10/01/2020  ...  [A Human Wrote This…Are You Sure?, For a long ...\n",
              "8319  10/01/2020  ...  [New programmers are often confused about the ...\n",
              "8320  10/01/2020  ...  [A couple of questions before we start.1- Have...\n",
              "8321  10/01/2020  ...  [After recently stumbling upon a commencement ...\n",
              "\n",
              "[10 rows x 12 columns]"
            ]
          },
          "metadata": {
            "tags": []
          },
          "execution_count": 16
        }
      ]
    },
    {
      "cell_type": "code",
      "metadata": {
        "id": "Sn4Tck92ywsW"
      },
      "source": [
        ""
      ],
      "execution_count": null,
      "outputs": []
    }
  ]
}