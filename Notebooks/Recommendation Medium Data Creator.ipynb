{
  "nbformat": 4,
  "nbformat_minor": 0,
  "metadata": {
    "colab": {
      "name": "Recommendation Medium Data.ipynb",
      "provenance": [],
      "collapsed_sections": [
        "r2V_KIKs1h4g"
      ]
    },
    "kernelspec": {
      "name": "python3",
      "display_name": "Python 3"
    },
    "language_info": {
      "name": "python"
    }
  },
  "cells": [
    {
      "cell_type": "markdown",
      "metadata": {
        "id": "5lKvjgXz1Ym0"
      },
      "source": [
        "## Importing Packages"
      ]
    },
    {
      "cell_type": "code",
      "metadata": {
        "id": "NEoVUxkwOTXE"
      },
      "source": [
        "import pandas as pd\n",
        "import numpy as np\n",
        "import re\n",
        "import string\n",
        "\n",
        "from sklearn.feature_extraction import text\n",
        "from sklearn.metrics.pairwise import cosine_similarity\n",
        "from sklearn.decomposition import NMF\n",
        "from sklearn.feature_extraction.text import TfidfVectorizer\n",
        "from sklearn.decomposition import TruncatedSVD\n",
        "from sklearn.preprocessing import StandardScaler, MinMaxScaler\n",
        "from sklearn.metrics import r2_score, mean_squared_error\n",
        "\n",
        "import nltk\n",
        "from nltk.stem import WordNetLemmatizer \n",
        "\n",
        "import gensim\n",
        "from gensim.parsing.preprocessing import STOPWORDS\n",
        "\n",
        "# nltk.download()\n",
        "# from google.colab import drive\n",
        "# drive.mount('/content/drive')"
      ],
      "execution_count": null,
      "outputs": []
    },
    {
      "cell_type": "markdown",
      "metadata": {
        "id": "r2V_KIKs1h4g"
      },
      "source": [
        "## Getting The Data"
      ]
    },
    {
      "cell_type": "code",
      "metadata": {
        "colab": {
          "base_uri": "https://localhost:8080/",
          "height": 632
        },
        "id": "BOqsjKU2O5Kl",
        "outputId": "e15d908c-8af9-453c-f926-b3a3b3ccc9f8"
      },
      "source": [
        "transcripts = pd.read_csv(\"/content/drive/MyDrive/Big Data/mediumdata.csv\")\n",
        "transcripts.head()"
      ],
      "execution_count": null,
      "outputs": [
        {
          "output_type": "execute_result",
          "data": {
            "text/html": [
              "<div>\n",
              "<style scoped>\n",
              "    .dataframe tbody tr th:only-of-type {\n",
              "        vertical-align: middle;\n",
              "    }\n",
              "\n",
              "    .dataframe tbody tr th {\n",
              "        vertical-align: top;\n",
              "    }\n",
              "\n",
              "    .dataframe thead th {\n",
              "        text-align: right;\n",
              "    }\n",
              "</style>\n",
              "<table border=\"1\" class=\"dataframe\">\n",
              "  <thead>\n",
              "    <tr style=\"text-align: right;\">\n",
              "      <th></th>\n",
              "      <th>date</th>\n",
              "      <th>title</th>\n",
              "      <th>subtitle</th>\n",
              "      <th>claps</th>\n",
              "      <th>responses</th>\n",
              "      <th>author_url</th>\n",
              "      <th>story_url</th>\n",
              "      <th>reading_time (mins)</th>\n",
              "      <th>number_sections</th>\n",
              "      <th>section_titles</th>\n",
              "      <th>number_paragraphs</th>\n",
              "      <th>paragraphs</th>\n",
              "    </tr>\n",
              "  </thead>\n",
              "  <tbody>\n",
              "    <tr>\n",
              "      <th>0</th>\n",
              "      <td>06/01/2020</td>\n",
              "      <td>Interferon Responses Could Explain Susceptibil...</td>\n",
              "      <td>Impaired or delayed antiviral…</td>\n",
              "      <td>148</td>\n",
              "      <td>1</td>\n",
              "      <td>https://medium.com/@ngough-bioserendipity</td>\n",
              "      <td>https://medium.com/swlh/interferon-responses-c...</td>\n",
              "      <td>10</td>\n",
              "      <td>1</td>\n",
              "      <td>['Interferon Responses Could Explain Susceptib...</td>\n",
              "      <td>52</td>\n",
              "      <td>['What are interferons?', 'Interferons are pro...</td>\n",
              "    </tr>\n",
              "    <tr>\n",
              "      <th>1</th>\n",
              "      <td>06/01/2020</td>\n",
              "      <td>My Answers to the FAANG Product Management and...</td>\n",
              "      <td>Acing the Product Manager and Technical Progra...</td>\n",
              "      <td>520</td>\n",
              "      <td>5</td>\n",
              "      <td>https://medium.com/@drm</td>\n",
              "      <td>https://medium.com/swlh/my-answers-to-the-faan...</td>\n",
              "      <td>7</td>\n",
              "      <td>4</td>\n",
              "      <td>['My Answers to the FAANG Product Management a...</td>\n",
              "      <td>4</td>\n",
              "      <td>['From time to time, I’ll run through a series...</td>\n",
              "    </tr>\n",
              "    <tr>\n",
              "      <th>2</th>\n",
              "      <td>06/01/2020</td>\n",
              "      <td>Dynamically Import CSS</td>\n",
              "      <td>Lazy load CSS with the help of dynamic import(...</td>\n",
              "      <td>88</td>\n",
              "      <td>1</td>\n",
              "      <td>https://medium.com/@daviddalbusco</td>\n",
              "      <td>https://medium.com/swlh/dynamically-import-css...</td>\n",
              "      <td>6</td>\n",
              "      <td>6</td>\n",
              "      <td>['Dynamically Import CSS', 'Introduction', 'Dy...</td>\n",
              "      <td>28</td>\n",
              "      <td>['We recently introduced several theming optio...</td>\n",
              "    </tr>\n",
              "    <tr>\n",
              "      <th>3</th>\n",
              "      <td>06/01/2020</td>\n",
              "      <td>6 ways to significantly speed up Pandas with a...</td>\n",
              "      <td>The second part of the…</td>\n",
              "      <td>416</td>\n",
              "      <td>0</td>\n",
              "      <td>https://medium.com/@30mb1</td>\n",
              "      <td>https://medium.com/swlh/6-ways-to-significantl...</td>\n",
              "      <td>8</td>\n",
              "      <td>5</td>\n",
              "      <td>['6 ways to significantly speed up Pandas with...</td>\n",
              "      <td>28</td>\n",
              "      <td>['In previous article, we looked at some simpl...</td>\n",
              "    </tr>\n",
              "    <tr>\n",
              "      <th>4</th>\n",
              "      <td>06/01/2020</td>\n",
              "      <td>Using Hydra to Spray User Passwords</td>\n",
              "      <td>How attackers bypass account lockout when brut...</td>\n",
              "      <td>163</td>\n",
              "      <td>0</td>\n",
              "      <td>https://medium.com/@vickieli</td>\n",
              "      <td>https://medium.com/swlh/using-hydra-to-spray-u...</td>\n",
              "      <td>4</td>\n",
              "      <td>4</td>\n",
              "      <td>['Using Hydra to Spray User Passwords', 'What ...</td>\n",
              "      <td>27</td>\n",
              "      <td>['Have you heard of a password brute-force att...</td>\n",
              "    </tr>\n",
              "  </tbody>\n",
              "</table>\n",
              "</div>"
            ],
            "text/plain": [
              "         date  ...                                         paragraphs\n",
              "0  06/01/2020  ...  ['What are interferons?', 'Interferons are pro...\n",
              "1  06/01/2020  ...  ['From time to time, I’ll run through a series...\n",
              "2  06/01/2020  ...  ['We recently introduced several theming optio...\n",
              "3  06/01/2020  ...  ['In previous article, we looked at some simpl...\n",
              "4  06/01/2020  ...  ['Have you heard of a password brute-force att...\n",
              "\n",
              "[5 rows x 12 columns]"
            ]
          },
          "metadata": {
            "tags": []
          },
          "execution_count": 43
        }
      ]
    },
    {
      "cell_type": "code",
      "metadata": {
        "colab": {
          "base_uri": "https://localhost:8080/",
          "height": 323
        },
        "id": "o5JmtxySPBGe",
        "outputId": "1d057ce1-0fa3-4179-a4bb-ad51b05ab049"
      },
      "source": [
        "transcripts = transcripts[['title', 'subtitle', 'paragraphs', 'reading_time (mins)', 'story_url']]\n",
        "print(transcripts.shape)\n",
        "transcripts.head()"
      ],
      "execution_count": null,
      "outputs": [
        {
          "output_type": "stream",
          "text": [
            "(8322, 5)\n"
          ],
          "name": "stdout"
        },
        {
          "output_type": "execute_result",
          "data": {
            "text/html": [
              "<div>\n",
              "<style scoped>\n",
              "    .dataframe tbody tr th:only-of-type {\n",
              "        vertical-align: middle;\n",
              "    }\n",
              "\n",
              "    .dataframe tbody tr th {\n",
              "        vertical-align: top;\n",
              "    }\n",
              "\n",
              "    .dataframe thead th {\n",
              "        text-align: right;\n",
              "    }\n",
              "</style>\n",
              "<table border=\"1\" class=\"dataframe\">\n",
              "  <thead>\n",
              "    <tr style=\"text-align: right;\">\n",
              "      <th></th>\n",
              "      <th>title</th>\n",
              "      <th>subtitle</th>\n",
              "      <th>paragraphs</th>\n",
              "      <th>reading_time (mins)</th>\n",
              "      <th>story_url</th>\n",
              "    </tr>\n",
              "  </thead>\n",
              "  <tbody>\n",
              "    <tr>\n",
              "      <th>0</th>\n",
              "      <td>Interferon Responses Could Explain Susceptibil...</td>\n",
              "      <td>Impaired or delayed antiviral…</td>\n",
              "      <td>['What are interferons?', 'Interferons are pro...</td>\n",
              "      <td>10</td>\n",
              "      <td>https://medium.com/swlh/interferon-responses-c...</td>\n",
              "    </tr>\n",
              "    <tr>\n",
              "      <th>1</th>\n",
              "      <td>My Answers to the FAANG Product Management and...</td>\n",
              "      <td>Acing the Product Manager and Technical Progra...</td>\n",
              "      <td>['From time to time, I’ll run through a series...</td>\n",
              "      <td>7</td>\n",
              "      <td>https://medium.com/swlh/my-answers-to-the-faan...</td>\n",
              "    </tr>\n",
              "    <tr>\n",
              "      <th>2</th>\n",
              "      <td>Dynamically Import CSS</td>\n",
              "      <td>Lazy load CSS with the help of dynamic import(...</td>\n",
              "      <td>['We recently introduced several theming optio...</td>\n",
              "      <td>6</td>\n",
              "      <td>https://medium.com/swlh/dynamically-import-css...</td>\n",
              "    </tr>\n",
              "    <tr>\n",
              "      <th>3</th>\n",
              "      <td>6 ways to significantly speed up Pandas with a...</td>\n",
              "      <td>The second part of the…</td>\n",
              "      <td>['In previous article, we looked at some simpl...</td>\n",
              "      <td>8</td>\n",
              "      <td>https://medium.com/swlh/6-ways-to-significantl...</td>\n",
              "    </tr>\n",
              "    <tr>\n",
              "      <th>4</th>\n",
              "      <td>Using Hydra to Spray User Passwords</td>\n",
              "      <td>How attackers bypass account lockout when brut...</td>\n",
              "      <td>['Have you heard of a password brute-force att...</td>\n",
              "      <td>4</td>\n",
              "      <td>https://medium.com/swlh/using-hydra-to-spray-u...</td>\n",
              "    </tr>\n",
              "  </tbody>\n",
              "</table>\n",
              "</div>"
            ],
            "text/plain": [
              "                                               title  ...                                          story_url\n",
              "0  Interferon Responses Could Explain Susceptibil...  ...  https://medium.com/swlh/interferon-responses-c...\n",
              "1  My Answers to the FAANG Product Management and...  ...  https://medium.com/swlh/my-answers-to-the-faan...\n",
              "2                             Dynamically Import CSS  ...  https://medium.com/swlh/dynamically-import-css...\n",
              "3  6 ways to significantly speed up Pandas with a...  ...  https://medium.com/swlh/6-ways-to-significantl...\n",
              "4                Using Hydra to Spray User Passwords  ...  https://medium.com/swlh/using-hydra-to-spray-u...\n",
              "\n",
              "[5 rows x 5 columns]"
            ]
          },
          "metadata": {
            "tags": []
          },
          "execution_count": 44
        }
      ]
    },
    {
      "cell_type": "markdown",
      "metadata": {
        "id": "qOaLx0pByRAu"
      },
      "source": [
        "### Counting Most Frequent Words"
      ]
    },
    {
      "cell_type": "code",
      "metadata": {
        "colab": {
          "base_uri": "https://localhost:8080/"
        },
        "id": "6bXy7ZjSx6Qy",
        "outputId": "9c72968b-b43d-49bc-9894-d1d482144c95"
      },
      "source": [
        "from collections import Counter\n",
        "corpus = transcripts['paragraphs'].values.tolist()\n",
        "my_counter = Counter()\n",
        "for word in corpus:\n",
        "    # my_counter.update(word)\n",
        "    allWords = nltk.tokenize.word_tokenize(word)\n",
        "    allWordDist = nltk.FreqDist(w.lower() for w in allWords)\n",
        "\n",
        "    stopwords = nltk.corpus.stopwords.words('english')\n",
        "    punctuations = string.punctuation\n",
        "    allWordExceptStopDist = nltk.FreqDist(w.lower() for w in allWords if w not in stopwords and w not in punctuations)\n",
        "\n",
        "# type(my_counter)\n",
        "mostCommon= allWordExceptStopDist.most_common(50)\n",
        "# sorted(my_counter.items(), key=lambda pair: pair[1], reverse=True)\n",
        "print(mostCommon)"
      ],
      "execution_count": null,
      "outputs": [
        {
          "output_type": "stream",
          "text": [
            "[('problem', 11), ('mentor', 10), (\"'the\", 9), ('help', 8), ('i', 7), ('one', 7), ('“', 6), ('”', 6), ('learned', 6), ('learn', 6), ('others', 6), ('you', 6), ('rule', 6), ('best', 6), ('mentors', 5), ('people', 5), ('it', 5), ('learning', 5), ('engineering', 5), ('answer', 5), ('the', 4), (\"'this\", 4), ('engineers', 4), ('never', 4), ('engineer', 4), ('find', 4), ('we', 4), ('work', 4), ('solve', 4), ('also', 4), ('knowledge', 4), ('may', 4), ('good', 4), ('experience', 4), ('something', 4), ('answers', 4), ('’', 4), ('questions', 4), ('person', 4), ('solution', 4), ('instead', 4), ('new', 4), ('speech', 3), ('us', 3), ('matter', 3), ('—', 3), ('listen', 3), ('need', 3), ('single', 3), ('problems', 3)]\n"
          ],
          "name": "stdout"
        }
      ]
    },
    {
      "cell_type": "markdown",
      "metadata": {
        "id": "28oouaY3VhFp"
      },
      "source": [
        "## Cleaning The Data"
      ]
    },
    {
      "cell_type": "code",
      "metadata": {
        "id": "5Iw52gJcVjaZ"
      },
      "source": [
        "def remove_emojis(text):\n",
        "    emojis = re.compile(pattern = \"[\"\n",
        "        u\"\\U0001F600-\\U0001F64F\"  # emoticons\n",
        "        u\"\\U0001F300-\\U0001F5FF\"  # symbols & pictographs\n",
        "        u\"\\U0001F680-\\U0001F6FF\"  # transport & map symbols\n",
        "        u\"\\U0001F1E0-\\U0001F1FF\"  # flags (iOS)\n",
        "                           \"]+\", flags = re.UNICODE)\n",
        "    return emojis.sub(r'', text)\n",
        "\n",
        "def clean_text(text):\n",
        "    ''' Eliminates links, non alphanumerics, and punctuation. Returns lower case text. '''\n",
        "    # Remove links\n",
        "    text = re.sub('(?:(?:https?|ftp):\\/\\/)?[\\w/\\-?=%.]+\\.[\\w/\\-?=%.]+','', text)\n",
        "\n",
        "    # Remove non-alphanumerics\n",
        "    text = re.sub('\\w*\\d\\w*', ' ', text)\n",
        "\n",
        "    # Remove punctuation and lowercase\n",
        "    text = re.sub('[%s]' % re.escape(string.punctuation), ' ', text.lower())\n",
        "\n",
        "    # Remove newline characters\n",
        "    text = text.replace('\\n', ' ')\n",
        "    \n",
        "    return text\n",
        "\n",
        "def remove_stopwords(text):\n",
        "    clean_text = []\n",
        "    for word in text.split(' '):\n",
        "        if word not in stop_list and (len(word) > 2):\n",
        "            clean_text.append(word)\n",
        "    return ' '.join(clean_text)\n",
        "\n",
        "\n",
        "lemmer = WordNetLemmatizer()\n",
        "def lem_text(text):\n",
        "    word_list = []\n",
        "    for word in text.split(' '):\n",
        "        word_list.append(lemmer.lemmatize(word))\n",
        "    return ' '.join(word_list)"
      ],
      "execution_count": null,
      "outputs": []
    },
    {
      "cell_type": "code",
      "metadata": {
        "colab": {
          "base_uri": "https://localhost:8080/",
          "height": 374
        },
        "id": "sHa1Yax5VjQt",
        "outputId": "46aaffd0-5b94-45c7-b70e-531d9442f831"
      },
      "source": [
        "# Removing Emojis Of Text\n",
        "transcripts.paragraphs = transcripts.paragraphs.apply(remove_emojis)\n",
        "print('Removed Emojis')\n",
        "\n",
        "# Basic Cleaning Of Text\n",
        "transcripts.paragraphs = transcripts.paragraphs.apply(clean_text)\n",
        "print('Basic Cleaning Of Text Done')\n",
        "\n",
        "# Removing Stopwords\n",
        "stop_list = STOPWORDS.union(set(['data', 'ai', 'coding', 'developer', 'function', 'object', 'array', 'science', 'programming', 'development', \n",
        "                                 'unit', 'based', 'want', 'know', 'learn', \"don't\", 'things', 'lot', \"let's\", 'model', 'learned', 'learn', 'learning', \n",
        "                                 'work', 'solve', 'also', 'knowledge', 'solution', 'question', 'answer', 'algorithm', 'git', 'file', 'accuracy', \n",
        "                                 'people', 'time', 'network', 'layer', 'application', 'repository', 'create', 'package', 'client', 'prediction',\n",
        "                                 'test', 'classification', 'render', 'dataset', 'training', 'regression', 'directory', 'folder', 'database', 'user']))\n",
        "transcripts.paragraphs = transcripts.paragraphs.apply(remove_stopwords)\n",
        "print('Removed Stopwords')\n",
        "\n",
        "# Lemmatizing The Words\n",
        "transcripts.paragraphs = transcripts.paragraphs.apply(lem_text)\n",
        "print('Lemmatized All The Words')\n",
        "\n",
        "transcripts.head()"
      ],
      "execution_count": null,
      "outputs": [
        {
          "output_type": "stream",
          "text": [
            "Removed Emojis\n",
            "Basic Cleaning Of Text Done\n",
            "Removed Stopwords\n",
            "Lemmatized All The Words\n"
          ],
          "name": "stdout"
        },
        {
          "output_type": "execute_result",
          "data": {
            "text/html": [
              "<div>\n",
              "<style scoped>\n",
              "    .dataframe tbody tr th:only-of-type {\n",
              "        vertical-align: middle;\n",
              "    }\n",
              "\n",
              "    .dataframe tbody tr th {\n",
              "        vertical-align: top;\n",
              "    }\n",
              "\n",
              "    .dataframe thead th {\n",
              "        text-align: right;\n",
              "    }\n",
              "</style>\n",
              "<table border=\"1\" class=\"dataframe\">\n",
              "  <thead>\n",
              "    <tr style=\"text-align: right;\">\n",
              "      <th></th>\n",
              "      <th>title</th>\n",
              "      <th>subtitle</th>\n",
              "      <th>paragraphs</th>\n",
              "      <th>reading_time (mins)</th>\n",
              "      <th>story_url</th>\n",
              "    </tr>\n",
              "  </thead>\n",
              "  <tbody>\n",
              "    <tr>\n",
              "      <th>0</th>\n",
              "      <td>Interferon Responses Could Explain Susceptibil...</td>\n",
              "      <td>Impaired or delayed antiviral…</td>\n",
              "      <td>interferon interferon protein cell response in...</td>\n",
              "      <td>10</td>\n",
              "      <td>https://medium.com/swlh/interferon-responses-c...</td>\n",
              "    </tr>\n",
              "    <tr>\n",
              "      <th>1</th>\n",
              "      <td>My Answers to the FAANG Product Management and...</td>\n",
              "      <td>Acing the Product Manager and Technical Progra...</td>\n",
              "      <td>i’ll run series faang interview gauge market v...</td>\n",
              "      <td>7</td>\n",
              "      <td>https://medium.com/swlh/my-answers-to-the-faan...</td>\n",
              "    </tr>\n",
              "    <tr>\n",
              "      <th>2</th>\n",
              "      <td>Dynamically Import CSS</td>\n",
              "      <td>Lazy load CSS with the help of dynamic import(...</td>\n",
              "      <td>recently introduced theming option showcase co...</td>\n",
              "      <td>6</td>\n",
              "      <td>https://medium.com/swlh/dynamically-import-css...</td>\n",
              "    </tr>\n",
              "    <tr>\n",
              "      <th>3</th>\n",
              "      <td>6 ways to significantly speed up Pandas with a...</td>\n",
              "      <td>The second part of the…</td>\n",
              "      <td>previous article looked simple way speed panda...</td>\n",
              "      <td>8</td>\n",
              "      <td>https://medium.com/swlh/6-ways-to-significantl...</td>\n",
              "    </tr>\n",
              "    <tr>\n",
              "      <th>4</th>\n",
              "      <td>Using Hydra to Spray User Passwords</td>\n",
              "      <td>How attackers bypass account lockout when brut...</td>\n",
              "      <td>heard password brute force attack brute force ...</td>\n",
              "      <td>4</td>\n",
              "      <td>https://medium.com/swlh/using-hydra-to-spray-u...</td>\n",
              "    </tr>\n",
              "  </tbody>\n",
              "</table>\n",
              "</div>"
            ],
            "text/plain": [
              "                                               title  ...                                          story_url\n",
              "0  Interferon Responses Could Explain Susceptibil...  ...  https://medium.com/swlh/interferon-responses-c...\n",
              "1  My Answers to the FAANG Product Management and...  ...  https://medium.com/swlh/my-answers-to-the-faan...\n",
              "2                             Dynamically Import CSS  ...  https://medium.com/swlh/dynamically-import-css...\n",
              "3  6 ways to significantly speed up Pandas with a...  ...  https://medium.com/swlh/6-ways-to-significantl...\n",
              "4                Using Hydra to Spray User Passwords  ...  https://medium.com/swlh/using-hydra-to-spray-u...\n",
              "\n",
              "[5 rows x 5 columns]"
            ]
          },
          "metadata": {
            "tags": []
          },
          "execution_count": 46
        }
      ]
    },
    {
      "cell_type": "markdown",
      "metadata": {
        "id": "CYMogvCY2zrz"
      },
      "source": [
        "## Modelling"
      ]
    },
    {
      "cell_type": "markdown",
      "metadata": {
        "id": "6EUmiqbYjnxE"
      },
      "source": [
        "### Making TFIDF Vector For The Content of Article"
      ]
    },
    {
      "cell_type": "code",
      "metadata": {
        "id": "Akl1CrUmPTEb",
        "colab": {
          "base_uri": "https://localhost:8080/"
        },
        "outputId": "312ec754-9ad5-4b0a-cf45-8f7a18b298c7"
      },
      "source": [
        "vectorizer = TfidfVectorizer(stop_words = stop_list, ngram_range = (1, 1))\n",
        "tfcorpus = vectorizer.fit_transform(transcripts.paragraphs)\n",
        "tfcorpus.toarray().shape"
      ],
      "execution_count": null,
      "outputs": [
        {
          "output_type": "stream",
          "text": [
            "/usr/local/lib/python3.7/dist-packages/sklearn/feature_extraction/text.py:385: UserWarning: Your stop_words may be inconsistent with your preprocessing. Tokenizing the stop words generated tokens ['let'] not in stop_words.\n",
            "  'stop_words.' % sorted(inconsistent))\n"
          ],
          "name": "stderr"
        },
        {
          "output_type": "execute_result",
          "data": {
            "text/plain": [
              "(8322, 72438)"
            ]
          },
          "metadata": {
            "tags": []
          },
          "execution_count": 47
        }
      ]
    },
    {
      "cell_type": "markdown",
      "metadata": {
        "id": "fhKEiQANkCiO"
      },
      "source": [
        "### Function To Display Topics"
      ]
    },
    {
      "cell_type": "code",
      "metadata": {
        "id": "jxaxYOXJkBeX"
      },
      "source": [
        "def display_topics(model, feature_names, no_top_words, no_top_topics, topic_names = None):\n",
        "    count = 0\n",
        "    for ix, topic in enumerate(model.components_):\n",
        "        if count == no_top_topics:\n",
        "            break\n",
        "        if not topic_names or not topic_names[ix]:\n",
        "            print(\"\\nTopic \", (ix + 1))\n",
        "        else:\n",
        "            print(\"\\nTopic: '\",topic_names[ix],\"'\")\n",
        "        print(\", \".join([feature_names[i] for i in topic.argsort()[: -no_top_words - 1 : -1]]))"
      ],
      "execution_count": null,
      "outputs": []
    },
    {
      "cell_type": "markdown",
      "metadata": {
        "id": "ExnRnqzXjzK4"
      },
      "source": [
        "### Making a Model to See Favourable Topics"
      ]
    },
    {
      "cell_type": "markdown",
      "metadata": {
        "id": "SFWwVCIolCKs"
      },
      "source": [
        "#### TruncatedSVD"
      ]
    },
    {
      "cell_type": "code",
      "metadata": {
        "id": "IqxJdk6ejkgn"
      },
      "source": [
        "svd = TruncatedSVD(10)\n",
        "docs_svd = svd.fit_transform(tfcorpus)\n",
        "\n",
        "display_topics(svd, vectorizer.get_feature_names(), 15, 10)"
      ],
      "execution_count": null,
      "outputs": []
    },
    {
      "cell_type": "markdown",
      "metadata": {
        "id": "DXmqHmFwm-T6"
      },
      "source": [
        "#### NMF"
      ]
    },
    {
      "cell_type": "code",
      "metadata": {
        "colab": {
          "base_uri": "https://localhost:8080/"
        },
        "id": "CqXoK6FHkaCf",
        "outputId": "20ac220e-87d5-4dea-bc61-9dad80404618"
      },
      "source": [
        "nmf = NMF(10)\n",
        "docs_nmf = nmf.fit_transform(tfcorpus)\n",
        "\n",
        "display_topics(nmf, vectorizer.get_feature_names(), 15, 10)"
      ],
      "execution_count": null,
      "outputs": [
        {
          "output_type": "stream",
          "text": [
            "\n",
            "Topic  1\n",
            "company, business, employee, job, startup, year, money, life, home, day, office, working, investor, black, founder\n",
            "\n",
            "Topic  2\n",
            "code, class, method, javascript, language, type, string, variable, value, python, return, element, use, list, let\n",
            "\n",
            "Topic  3\n",
            "value, variable, column, feature, machine, linear, number, input, output, set, probability, matrix, plot, node, tree\n",
            "\n",
            "Topic  4\n",
            "writing, writer, write, book, word, reader, day, story, idea, ve, read, life, like, feel, sentence\n",
            "\n",
            "Topic  5\n",
            "component, react, state, redux, hook, prop, app, reducer, action, angular, dom, button, element, javascript, html\n",
            "\n",
            "Topic  6\n",
            "social, brand, medium, content, facebook, platform, marketing, instagram, tiktok, video, audience, google, post, apple, app\n",
            "\n",
            "Topic  7\n",
            "product, customer, business, marketing, market, brand, company, service, design, sale, strategy, need, idea, feature, startup\n",
            "\n",
            "Topic  8\n",
            "team, project, manager, software, leader, design, problem, goal, meeting, engineer, member, need, task, organization, skill\n",
            "\n",
            "Topic  9\n",
            "server, api, command, app, request, project, service, run, aws, web, use, http, docker, code, need\n",
            "\n",
            "Topic  10\n",
            "image, docker, container, pixel, neural, train, loss, class, cnn, convolutional, batch, epoch, output, validation, input\n"
          ],
          "name": "stdout"
        }
      ]
    },
    {
      "cell_type": "markdown",
      "metadata": {
        "id": "KRwkMR9L4Wtm"
      },
      "source": [
        "Topics \n",
        "- Topic 1 - Business and Startup\n",
        "- Topic 2 - Fundamental Coding\n",
        "- Topic 3 - Data Science\n",
        "- Topic 4 - Literature\n",
        "- Topic 5 - Web Development\n",
        "- Topic 6 - Social Media Branding\n",
        "- Topic 7 - Marketing and Sales\n",
        "- Topic 8 - Team Dynamics\n",
        "- Topic 9 - Cloud Development\n",
        "- Topic 10 - Machine Learning and Deep Learning"
      ]
    },
    {
      "cell_type": "code",
      "metadata": {
        "colab": {
          "base_uri": "https://localhost:8080/",
          "height": 734
        },
        "id": "2lJe23mnlsgT",
        "outputId": "973367cd-b6da-46cd-98c5-ad98fcfd3080"
      },
      "source": [
        "# Create topic sum for each article. Later remove all articles with sum 0.\n",
        "sumOfTopics = pd.DataFrame(np.sum(docs_nmf, axis = 1))\n",
        "\n",
        "# Turn our docs_nmf array into a data frame\n",
        "sumEachTopic = pd.DataFrame(data = docs_nmf)\n",
        "sumEachTopic.head()\n",
        "\n",
        "# Making Final DataFrame with Topic Scores\n",
        "final = pd.concat([transcripts, sumEachTopic, sumOfTopics], axis = 1)\n",
        "final.columns = ['Titles', 'Subtitles', 'Text', 'Reading Time', 'Story URL', \n",
        "                 'Business and Startups', 'Fundamental Coding', 'Data Science & Statistics', 'Literature', 'Web Development', \n",
        "                 'Social Media & Branding', 'Marketing & Sales', 'Team Dynamics', 'Cloud Development', 'Machine Learning & Deep Learning',\n",
        "                 'Total Topic Sum']\n",
        "\n",
        "# Remove articles with topic sum = 0, then drop sum column\n",
        "final = final[final['Total Topic Sum'] != 0]\n",
        "final.drop(columns = 'Total Topic Sum', inplace = True)\n",
        "\n",
        "final.head()"
      ],
      "execution_count": null,
      "outputs": [
        {
          "output_type": "execute_result",
          "data": {
            "text/html": [
              "<div>\n",
              "<style scoped>\n",
              "    .dataframe tbody tr th:only-of-type {\n",
              "        vertical-align: middle;\n",
              "    }\n",
              "\n",
              "    .dataframe tbody tr th {\n",
              "        vertical-align: top;\n",
              "    }\n",
              "\n",
              "    .dataframe thead th {\n",
              "        text-align: right;\n",
              "    }\n",
              "</style>\n",
              "<table border=\"1\" class=\"dataframe\">\n",
              "  <thead>\n",
              "    <tr style=\"text-align: right;\">\n",
              "      <th></th>\n",
              "      <th>Titles</th>\n",
              "      <th>Subtitles</th>\n",
              "      <th>Text</th>\n",
              "      <th>Reading Time</th>\n",
              "      <th>Story URL</th>\n",
              "      <th>Business and Startups</th>\n",
              "      <th>Fundamental Coding</th>\n",
              "      <th>Data Science &amp; Statistics</th>\n",
              "      <th>Literature</th>\n",
              "      <th>Web Development</th>\n",
              "      <th>Social Media &amp; Branding</th>\n",
              "      <th>Marketing &amp; Sales</th>\n",
              "      <th>Team Dynamics</th>\n",
              "      <th>Cloud Development</th>\n",
              "      <th>Machine Learning &amp; Deep Learning</th>\n",
              "    </tr>\n",
              "  </thead>\n",
              "  <tbody>\n",
              "    <tr>\n",
              "      <th>0</th>\n",
              "      <td>Interferon Responses Could Explain Susceptibil...</td>\n",
              "      <td>Impaired or delayed antiviral…</td>\n",
              "      <td>interferon interferon protein cell response in...</td>\n",
              "      <td>10</td>\n",
              "      <td>https://medium.com/swlh/interferon-responses-c...</td>\n",
              "      <td>0.004894</td>\n",
              "      <td>0.007465</td>\n",
              "      <td>0.010360</td>\n",
              "      <td>0.000000</td>\n",
              "      <td>0.000000</td>\n",
              "      <td>0.003635</td>\n",
              "      <td>0.000000</td>\n",
              "      <td>0.000000</td>\n",
              "      <td>0.000435</td>\n",
              "      <td>0.000000</td>\n",
              "    </tr>\n",
              "    <tr>\n",
              "      <th>1</th>\n",
              "      <td>My Answers to the FAANG Product Management and...</td>\n",
              "      <td>Acing the Product Manager and Technical Progra...</td>\n",
              "      <td>i’ll run series faang interview gauge market v...</td>\n",
              "      <td>7</td>\n",
              "      <td>https://medium.com/swlh/my-answers-to-the-faan...</td>\n",
              "      <td>0.012168</td>\n",
              "      <td>0.006582</td>\n",
              "      <td>0.002763</td>\n",
              "      <td>0.000000</td>\n",
              "      <td>0.000000</td>\n",
              "      <td>0.018922</td>\n",
              "      <td>0.019762</td>\n",
              "      <td>0.026765</td>\n",
              "      <td>0.000000</td>\n",
              "      <td>0.000000</td>\n",
              "    </tr>\n",
              "    <tr>\n",
              "      <th>2</th>\n",
              "      <td>Dynamically Import CSS</td>\n",
              "      <td>Lazy load CSS with the help of dynamic import(...</td>\n",
              "      <td>recently introduced theming option showcase co...</td>\n",
              "      <td>6</td>\n",
              "      <td>https://medium.com/swlh/dynamically-import-css...</td>\n",
              "      <td>0.000000</td>\n",
              "      <td>0.033187</td>\n",
              "      <td>0.000000</td>\n",
              "      <td>0.005850</td>\n",
              "      <td>0.093204</td>\n",
              "      <td>0.000320</td>\n",
              "      <td>0.000000</td>\n",
              "      <td>0.005100</td>\n",
              "      <td>0.019200</td>\n",
              "      <td>0.006342</td>\n",
              "    </tr>\n",
              "    <tr>\n",
              "      <th>3</th>\n",
              "      <td>6 ways to significantly speed up Pandas with a...</td>\n",
              "      <td>The second part of the…</td>\n",
              "      <td>previous article looked simple way speed panda...</td>\n",
              "      <td>8</td>\n",
              "      <td>https://medium.com/swlh/6-ways-to-significantl...</td>\n",
              "      <td>0.002413</td>\n",
              "      <td>0.014669</td>\n",
              "      <td>0.038433</td>\n",
              "      <td>0.002447</td>\n",
              "      <td>0.000000</td>\n",
              "      <td>0.000000</td>\n",
              "      <td>0.000000</td>\n",
              "      <td>0.005677</td>\n",
              "      <td>0.011292</td>\n",
              "      <td>0.000258</td>\n",
              "    </tr>\n",
              "    <tr>\n",
              "      <th>4</th>\n",
              "      <td>Using Hydra to Spray User Passwords</td>\n",
              "      <td>How attackers bypass account lockout when brut...</td>\n",
              "      <td>heard password brute force attack brute force ...</td>\n",
              "      <td>4</td>\n",
              "      <td>https://medium.com/swlh/using-hydra-to-spray-u...</td>\n",
              "      <td>0.001123</td>\n",
              "      <td>0.002613</td>\n",
              "      <td>0.002559</td>\n",
              "      <td>0.000000</td>\n",
              "      <td>0.000000</td>\n",
              "      <td>0.010631</td>\n",
              "      <td>0.000000</td>\n",
              "      <td>0.000000</td>\n",
              "      <td>0.033858</td>\n",
              "      <td>0.000000</td>\n",
              "    </tr>\n",
              "  </tbody>\n",
              "</table>\n",
              "</div>"
            ],
            "text/plain": [
              "                                              Titles  ... Machine Learning & Deep Learning\n",
              "0  Interferon Responses Could Explain Susceptibil...  ...                         0.000000\n",
              "1  My Answers to the FAANG Product Management and...  ...                         0.000000\n",
              "2                             Dynamically Import CSS  ...                         0.006342\n",
              "3  6 ways to significantly speed up Pandas with a...  ...                         0.000258\n",
              "4                Using Hydra to Spray User Passwords  ...                         0.000000\n",
              "\n",
              "[5 rows x 15 columns]"
            ]
          },
          "metadata": {
            "tags": []
          },
          "execution_count": 81
        }
      ]
    },
    {
      "cell_type": "code",
      "metadata": {
        "id": "i0zgvsTCHe-z"
      },
      "source": [
        "# final.to_csv('/content/drive/MyDrive/Big Data/final_data.csv')"
      ],
      "execution_count": null,
      "outputs": []
    },
    {
      "cell_type": "markdown",
      "metadata": {
        "id": "PJdxy867ltLb"
      },
      "source": [
        "## Recommendation System"
      ]
    },
    {
      "cell_type": "code",
      "metadata": {
        "colab": {
          "base_uri": "https://localhost:8080/",
          "height": 734
        },
        "id": "HYjX8YooNquU",
        "outputId": "c82c2cc8-3668-4859-bb36-e1caba4ca439"
      },
      "source": [
        "final = pd.read_csv('/content/drive/MyDrive/Big Data/final_data.csv')\n",
        "final.head()"
      ],
      "execution_count": null,
      "outputs": [
        {
          "output_type": "execute_result",
          "data": {
            "text/html": [
              "<div>\n",
              "<style scoped>\n",
              "    .dataframe tbody tr th:only-of-type {\n",
              "        vertical-align: middle;\n",
              "    }\n",
              "\n",
              "    .dataframe tbody tr th {\n",
              "        vertical-align: top;\n",
              "    }\n",
              "\n",
              "    .dataframe thead th {\n",
              "        text-align: right;\n",
              "    }\n",
              "</style>\n",
              "<table border=\"1\" class=\"dataframe\">\n",
              "  <thead>\n",
              "    <tr style=\"text-align: right;\">\n",
              "      <th></th>\n",
              "      <th>Unnamed: 0</th>\n",
              "      <th>Titles</th>\n",
              "      <th>Subtitles</th>\n",
              "      <th>Text</th>\n",
              "      <th>Reading Time</th>\n",
              "      <th>Story URL</th>\n",
              "      <th>Business and Startups</th>\n",
              "      <th>Fundamental Coding</th>\n",
              "      <th>Data Science &amp; Statistics</th>\n",
              "      <th>Literature</th>\n",
              "      <th>Web Development</th>\n",
              "      <th>Social Media &amp; Branding</th>\n",
              "      <th>Marketing &amp; Sales</th>\n",
              "      <th>Team Dynamics</th>\n",
              "      <th>Cloud Development</th>\n",
              "      <th>Machine Learning &amp; Deep Learning</th>\n",
              "    </tr>\n",
              "  </thead>\n",
              "  <tbody>\n",
              "    <tr>\n",
              "      <th>0</th>\n",
              "      <td>0</td>\n",
              "      <td>Interferon Responses Could Explain Susceptibil...</td>\n",
              "      <td>Impaired or delayed antiviral…</td>\n",
              "      <td>interferon interferon protein cell response in...</td>\n",
              "      <td>10</td>\n",
              "      <td>https://medium.com/swlh/interferon-responses-c...</td>\n",
              "      <td>0.004894</td>\n",
              "      <td>0.007465</td>\n",
              "      <td>0.010360</td>\n",
              "      <td>0.000000</td>\n",
              "      <td>0.000000</td>\n",
              "      <td>0.003635</td>\n",
              "      <td>0.000000</td>\n",
              "      <td>0.000000</td>\n",
              "      <td>0.000435</td>\n",
              "      <td>0.000000</td>\n",
              "    </tr>\n",
              "    <tr>\n",
              "      <th>1</th>\n",
              "      <td>1</td>\n",
              "      <td>My Answers to the FAANG Product Management and...</td>\n",
              "      <td>Acing the Product Manager and Technical Progra...</td>\n",
              "      <td>i’ll run series faang interview gauge market v...</td>\n",
              "      <td>7</td>\n",
              "      <td>https://medium.com/swlh/my-answers-to-the-faan...</td>\n",
              "      <td>0.012168</td>\n",
              "      <td>0.006582</td>\n",
              "      <td>0.002763</td>\n",
              "      <td>0.000000</td>\n",
              "      <td>0.000000</td>\n",
              "      <td>0.018922</td>\n",
              "      <td>0.019762</td>\n",
              "      <td>0.026765</td>\n",
              "      <td>0.000000</td>\n",
              "      <td>0.000000</td>\n",
              "    </tr>\n",
              "    <tr>\n",
              "      <th>2</th>\n",
              "      <td>2</td>\n",
              "      <td>Dynamically Import CSS</td>\n",
              "      <td>Lazy load CSS with the help of dynamic import(...</td>\n",
              "      <td>recently introduced theming option showcase co...</td>\n",
              "      <td>6</td>\n",
              "      <td>https://medium.com/swlh/dynamically-import-css...</td>\n",
              "      <td>0.000000</td>\n",
              "      <td>0.033187</td>\n",
              "      <td>0.000000</td>\n",
              "      <td>0.005850</td>\n",
              "      <td>0.093204</td>\n",
              "      <td>0.000320</td>\n",
              "      <td>0.000000</td>\n",
              "      <td>0.005100</td>\n",
              "      <td>0.019200</td>\n",
              "      <td>0.006342</td>\n",
              "    </tr>\n",
              "    <tr>\n",
              "      <th>3</th>\n",
              "      <td>3</td>\n",
              "      <td>6 ways to significantly speed up Pandas with a...</td>\n",
              "      <td>The second part of the…</td>\n",
              "      <td>previous article looked simple way speed panda...</td>\n",
              "      <td>8</td>\n",
              "      <td>https://medium.com/swlh/6-ways-to-significantl...</td>\n",
              "      <td>0.002413</td>\n",
              "      <td>0.014669</td>\n",
              "      <td>0.038433</td>\n",
              "      <td>0.002447</td>\n",
              "      <td>0.000000</td>\n",
              "      <td>0.000000</td>\n",
              "      <td>0.000000</td>\n",
              "      <td>0.005677</td>\n",
              "      <td>0.011292</td>\n",
              "      <td>0.000258</td>\n",
              "    </tr>\n",
              "    <tr>\n",
              "      <th>4</th>\n",
              "      <td>4</td>\n",
              "      <td>Using Hydra to Spray User Passwords</td>\n",
              "      <td>How attackers bypass account lockout when brut...</td>\n",
              "      <td>heard password brute force attack brute force ...</td>\n",
              "      <td>4</td>\n",
              "      <td>https://medium.com/swlh/using-hydra-to-spray-u...</td>\n",
              "      <td>0.001123</td>\n",
              "      <td>0.002613</td>\n",
              "      <td>0.002559</td>\n",
              "      <td>0.000000</td>\n",
              "      <td>0.000000</td>\n",
              "      <td>0.010631</td>\n",
              "      <td>0.000000</td>\n",
              "      <td>0.000000</td>\n",
              "      <td>0.033858</td>\n",
              "      <td>0.000000</td>\n",
              "    </tr>\n",
              "  </tbody>\n",
              "</table>\n",
              "</div>"
            ],
            "text/plain": [
              "   Unnamed: 0  ... Machine Learning & Deep Learning\n",
              "0           0  ...                         0.000000\n",
              "1           1  ...                         0.000000\n",
              "2           2  ...                         0.006342\n",
              "3           3  ...                         0.000258\n",
              "4           4  ...                         0.000000\n",
              "\n",
              "[5 rows x 16 columns]"
            ]
          },
          "metadata": {
            "tags": []
          },
          "execution_count": 2
        }
      ]
    },
    {
      "cell_type": "markdown",
      "metadata": {
        "id": "jMAUEEYmNodm"
      },
      "source": [
        "### Cosine Distance"
      ]
    },
    {
      "cell_type": "code",
      "metadata": {
        "id": "RuAIpHEWPd3j"
      },
      "source": [
        "topic_names = ['Business and Startups', 'Fundamental Coding', 'Data Science & Statistics', 'Literature', 'Web Development', \n",
        "               'Social Media & Branding', 'Marketing & Sales', 'Team Dynamics', 'Cloud Development', 'Machine Learning & Deep Learning']\n",
        "topic_array = np.array(final[topic_names])\n",
        "norms = np.linalg.norm(topic_array, axis = 1)\n",
        "\n",
        "def compute_dists(top_vec, topic_array):\n",
        "    ''' Returns cosine distances for top_vec compared to every article '''\n",
        "    dots = np.matmul(topic_array, top_vec)\n",
        "    input_norm = np.linalg.norm(top_vec)\n",
        "    co_dists = dots / (input_norm * norms)\n",
        "    return co_dists\n",
        "\n",
        "def produce_rec(top_vec, topic_array, doc_topic_df, rand = 15):\n",
        "    '''\n",
        "    Produces a recommendation based on cosine distance.\n",
        "    Rand variable controls level of randomness in output recommendation.\n",
        "    '''\n",
        "    # Add a bit of randomness to top_vec\n",
        "    top_vec = top_vec + np.random.rand(10, ) / (np.linalg.norm(top_vec)) * rand\n",
        "    co_dists = compute_dists(top_vec, topic_array)\n",
        "    return final.loc[np.argmax(co_dists)]"
      ],
      "execution_count": null,
      "outputs": []
    },
    {
      "cell_type": "code",
      "metadata": {
        "id": "zghv2nBkRslq",
        "colab": {
          "base_uri": "https://localhost:8080/"
        },
        "outputId": "7c60f6b0-714e-413d-e56c-2db21d1d1f71"
      },
      "source": [
        "top_vec = np.array([0, 0.8, 0, 0, 0, 0, 0, 0, 0, 0])\n",
        "\n",
        "rec = produce_rec(top_vec, topic_array, final)\n",
        "print(rec['Story URL'])\n",
        "rec"
      ],
      "execution_count": null,
      "outputs": [
        {
          "output_type": "stream",
          "text": [
            "https://medium.com/swlh/how-to-start-your-journey-as-an-ios-developer-a23b835b1fed?source=collection_archive---------35-----------------------\n"
          ],
          "name": "stdout"
        },
        {
          "output_type": "execute_result",
          "data": {
            "text/plain": [
              "Unnamed: 0                                                                       8098\n",
              "Titles                              How to Start Your Swift-iOS Journey as a Beginner\n",
              "Subtitles                                                                           -\n",
              "Text                                spoken io maybe told io pretty cool good salar...\n",
              "Reading Time                                                                        4\n",
              "Story URL                           https://medium.com/swlh/how-to-start-your-jour...\n",
              "Business and Startups                                                       0.0167106\n",
              "Fundamental Coding                                                          0.0231493\n",
              "Data Science & Statistics                                                           0\n",
              "Literature                                                                  0.0132692\n",
              "Web Development                                                                     0\n",
              "Social Media & Branding                                                     0.0268178\n",
              "Marketing & Sales                                                                   0\n",
              "Team Dynamics                                                               0.0144189\n",
              "Cloud Development                                                           0.0156208\n",
              "Machine Learning & Deep Learning                                           0.00326783\n",
              "Name: 8080, dtype: object"
            ]
          },
          "metadata": {
            "tags": []
          },
          "execution_count": 58
        }
      ]
    },
    {
      "cell_type": "markdown",
      "metadata": {
        "id": "8wL8_3UPOXly"
      },
      "source": [
        "### R2 Score"
      ]
    },
    {
      "cell_type": "code",
      "metadata": {
        "colab": {
          "base_uri": "https://localhost:8080/"
        },
        "id": "K2K3WeVS9zEc",
        "outputId": "b05d7eae-6e27-4dca-df6a-0f298e836dba"
      },
      "source": [
        "topic_names = ['Business and Startups', 'Fundamental Coding', 'Data Science & Statistics', 'Literature', 'Web Development', \n",
        "               'Social Media & Branding', 'Marketing & Sales', 'Team Dynamics', 'Cloud Development', 'Machine Learning & Deep Learning']\n",
        "topic_array = np.array(final[topic_names])\n",
        "# norms = np.linalg.norm(topic_array, axis = 1)\n",
        "sc = MinMaxScaler(feature_range = (0, 1))\n",
        "norm = sc.fit_transform(topic_array.T).T\n",
        "\n",
        "top_vec = np.array([0, 0.8, 0, 0, 0, 0, 0, 0, 0, 0])\n",
        "\n",
        "min = 1000\n",
        "index = []\n",
        "for i in range(len(final)):\n",
        "  y = mean_squared_error(norm[i], top_vec)\n",
        "  if y < min: \n",
        "    index.append(i)\n",
        "    min = y\n",
        "\n",
        "print(index)\n",
        "print('The Closest Article is:')\n",
        "print(final['Titles'][index[-3:]])\n",
        "print(final['Story URL'][index[-3:]])\n",
        "# final.loc[[index[-3:]]]"
      ],
      "execution_count": null,
      "outputs": [
        {
          "output_type": "stream",
          "text": [
            "[0, 2, 7, 15, 25, 92, 137, 143, 144, 280, 455, 497]\n",
            "The Closest Article is:\n",
            "280    Block, Function, and Global Scope in JavaScript\n",
            "455                    Java (Non-primitive data-types)\n",
            "497                   Features C# has that Java should\n",
            "Name: Titles, dtype: object\n",
            "280    https://medium.com/swlh/block-function-and-glo...\n",
            "455    https://medium.com/swlh/java-non-primitive-dat...\n",
            "497    https://medium.com/swlh/features-c-has-that-ja...\n",
            "Name: Story URL, dtype: object\n"
          ],
          "name": "stdout"
        }
      ]
    },
    {
      "cell_type": "code",
      "metadata": {
        "colab": {
          "base_uri": "https://localhost:8080/"
        },
        "id": "6-z5HoQSWg8q",
        "outputId": "8a3eddda-9091-4aa5-8fbb-8409bdf773f4"
      },
      "source": [
        "index[-3:]"
      ],
      "execution_count": null,
      "outputs": [
        {
          "output_type": "execute_result",
          "data": {
            "text/plain": [
              "[4, 12, 75]"
            ]
          },
          "metadata": {
            "tags": []
          },
          "execution_count": 52
        }
      ]
    }
  ]
}